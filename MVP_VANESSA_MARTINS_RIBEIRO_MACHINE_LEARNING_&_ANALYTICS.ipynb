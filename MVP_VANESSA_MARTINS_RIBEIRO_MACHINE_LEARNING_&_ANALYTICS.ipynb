{
  "nbformat": 4,
  "nbformat_minor": 0,
  "metadata": {
    "colab": {
      "provenance": [],
      "authorship_tag": "ABX9TyOqA6tSjWRmVBJ/VTuYQThn",
      "include_colab_link": true
    },
    "kernelspec": {
      "name": "python3",
      "display_name": "Python 3"
    },
    "language_info": {
      "name": "python"
    }
  },
  "cells": [
    {
      "cell_type": "markdown",
      "metadata": {
        "id": "view-in-github",
        "colab_type": "text"
      },
      "source": [
        "<a href=\"https://colab.research.google.com/github/vmarrib/fpsrate/blob/main/MVP_VANESSA_MARTINS_RIBEIRO_MACHINE_LEARNING_%26_ANALYTICS.ipynb\" target=\"_parent\"><img src=\"https://colab.research.google.com/assets/colab-badge.svg\" alt=\"Open In Colab\"/></a>"
      ]
    },
    {
      "cell_type": "code",
      "execution_count": null,
      "metadata": {
        "id": "svZK0Ih5B_30"
      },
      "outputs": [],
      "source": []
    },
    {
      "cell_type": "markdown",
      "source": [
        "**Parte 1 - Machine learning**\n",
        "\n",
        "**Descrição**\n",
        "\n",
        "Este projeto visa identificar as regiões com maior frequência de acidentes e as principais causas associadas, utilizando um dataset de acidentes de trânsito no Brasil, disponível no Kaggle. A análise permitirá entender quais fatores regionais e específicos de cada acidente estão mais presentes nas ocorrências, auxiliando na formulação de estratégias para a redução de acidentes e melhoria da segurança nas estradas.\n",
        "\n",
        "**Objetivo**\n",
        "\n",
        "Identificar padrões nas regiões e nas causas dos acidentes, de forma a destacar áreas de alto risco e causas mais frequentes de acidentes. Esses insights podem apoiar agências de trânsito e autoridades na priorização de recursos e políticas preventivas.\n",
        "\n",
        "\n",
        "**O Dataset**\n",
        "\n",
        "O dataset de acidentes de trânsito no Brasil (2017-2023) disponível no Kaggle contém informações detalhadas sobre os acidentes registrados. Aqui está uma lista das colunas incluídas no dataset e uma descrição de cada uma delas:\n",
        "\n",
        "1. inverse_data: Data em que o acidente ocorreu, no formato YYYY-MM-DD.\n",
        "\n",
        "2. week_day: Dia da semana em que o acidente ocorreu (ex: \"Monday\", \"Tuesday\").\n",
        "\n",
        "3. hour: Hora do acidente no formato HH:MM:SS.\n",
        "\n",
        "4. state: Sigla do estado brasileiro onde o acidente aconteceu (ex: \"SP\" para São Paulo).\n",
        "\n",
        "5. road_id: Identificação da rodovia onde o acidente aconteceu. Pode conter siglas ou números que identificam especificamente a rodovia.\n",
        "\n",
        "6. km: Quilômetro específico na rodovia onde o acidente ocorreu.\n",
        "\n",
        "7. city: Nome da cidade onde o acidente aconteceu.\n",
        "\n",
        "8. cause_of_accident: Causa registrada para o acidente (ex: \"excesso de velocidade\", \"falta de atenção\").\n",
        "\n",
        "9. type_of_accident: Tipo de acidente registrado (ex: \"colisão frontal\", \"capotamento\", \"atropelamento\").\n",
        "\n",
        "10. victims_condition: Condição das vítimas após o acidente, indicando se houve vítimas fatais, feridos ou se ninguém foi ferido (ex: \"Fatal\", \"Feridos\", \"No Victims\").\n",
        "\n",
        "11. vehicles_involved: Número de veículos envolvidos no acidente.\n",
        "\n",
        "12. latitude: Coordenada de latitude do local do acidente.\n",
        "\n",
        "13. longitude: Coordenada de longitude do local do acidente.\n",
        "\n",
        "14. weather_conditions: Condição climática no momento do acidente (ex: \"chuva\", \"sol\", \"neblina\").\n",
        "\n",
        "15. road_conditions: Condição da pista no momento do acidente (ex: \"seca\", \"molhada\", \"escorregadia\").\n",
        "\n",
        "16. traffic_conditions: Condição do tráfego na rodovia no momento do acidente (ex: \"baixo\", \"moderado\", \"intenso\").\n",
        "\n"
      ],
      "metadata": {
        "id": "UVc_58D_CP2G"
      }
    },
    {
      "cell_type": "markdown",
      "source": [
        "**1. Download do Dataset do Kaggle**"
      ],
      "metadata": {
        "id": "Twx-VECbKOrt"
      }
    },
    {
      "cell_type": "code",
      "source": [
        "\n",
        "from google.colab import files\n",
        "files.upload()"
      ],
      "metadata": {
        "id": "a5Kgw2z6CVFA",
        "colab": {
          "base_uri": "https://localhost:8080/",
          "height": 39
        },
        "outputId": "9079a968-b462-4206-9684-51253c4f43cd"
      },
      "execution_count": null,
      "outputs": [
        {
          "data": {
            "text/html": [
              "\n",
              "     <input type=\"file\" id=\"files-44fe899f-d6cf-4674-a7ec-f2d1a963e8b8\" name=\"files[]\" multiple disabled\n",
              "        style=\"border:none\" />\n",
              "     <output id=\"result-44fe899f-d6cf-4674-a7ec-f2d1a963e8b8\">\n",
              "      Upload widget is only available when the cell has been executed in the\n",
              "      current browser session. Please rerun this cell to enable.\n",
              "      </output>\n",
              "      <script>// Copyright 2017 Google LLC\n",
              "//\n",
              "// Licensed under the Apache License, Version 2.0 (the \"License\");\n",
              "// you may not use this file except in compliance with the License.\n",
              "// You may obtain a copy of the License at\n",
              "//\n",
              "//      http://www.apache.org/licenses/LICENSE-2.0\n",
              "//\n",
              "// Unless required by applicable law or agreed to in writing, software\n",
              "// distributed under the License is distributed on an \"AS IS\" BASIS,\n",
              "// WITHOUT WARRANTIES OR CONDITIONS OF ANY KIND, either express or implied.\n",
              "// See the License for the specific language governing permissions and\n",
              "// limitations under the License.\n",
              "\n",
              "/**\n",
              " * @fileoverview Helpers for google.colab Python module.\n",
              " */\n",
              "(function(scope) {\n",
              "function span(text, styleAttributes = {}) {\n",
              "  const element = document.createElement('span');\n",
              "  element.textContent = text;\n",
              "  for (const key of Object.keys(styleAttributes)) {\n",
              "    element.style[key] = styleAttributes[key];\n",
              "  }\n",
              "  return element;\n",
              "}\n",
              "\n",
              "// Max number of bytes which will be uploaded at a time.\n",
              "const MAX_PAYLOAD_SIZE = 100 * 1024;\n",
              "\n",
              "function _uploadFiles(inputId, outputId) {\n",
              "  const steps = uploadFilesStep(inputId, outputId);\n",
              "  const outputElement = document.getElementById(outputId);\n",
              "  // Cache steps on the outputElement to make it available for the next call\n",
              "  // to uploadFilesContinue from Python.\n",
              "  outputElement.steps = steps;\n",
              "\n",
              "  return _uploadFilesContinue(outputId);\n",
              "}\n",
              "\n",
              "// This is roughly an async generator (not supported in the browser yet),\n",
              "// where there are multiple asynchronous steps and the Python side is going\n",
              "// to poll for completion of each step.\n",
              "// This uses a Promise to block the python side on completion of each step,\n",
              "// then passes the result of the previous step as the input to the next step.\n",
              "function _uploadFilesContinue(outputId) {\n",
              "  const outputElement = document.getElementById(outputId);\n",
              "  const steps = outputElement.steps;\n",
              "\n",
              "  const next = steps.next(outputElement.lastPromiseValue);\n",
              "  return Promise.resolve(next.value.promise).then((value) => {\n",
              "    // Cache the last promise value to make it available to the next\n",
              "    // step of the generator.\n",
              "    outputElement.lastPromiseValue = value;\n",
              "    return next.value.response;\n",
              "  });\n",
              "}\n",
              "\n",
              "/**\n",
              " * Generator function which is called between each async step of the upload\n",
              " * process.\n",
              " * @param {string} inputId Element ID of the input file picker element.\n",
              " * @param {string} outputId Element ID of the output display.\n",
              " * @return {!Iterable<!Object>} Iterable of next steps.\n",
              " */\n",
              "function* uploadFilesStep(inputId, outputId) {\n",
              "  const inputElement = document.getElementById(inputId);\n",
              "  inputElement.disabled = false;\n",
              "\n",
              "  const outputElement = document.getElementById(outputId);\n",
              "  outputElement.innerHTML = '';\n",
              "\n",
              "  const pickedPromise = new Promise((resolve) => {\n",
              "    inputElement.addEventListener('change', (e) => {\n",
              "      resolve(e.target.files);\n",
              "    });\n",
              "  });\n",
              "\n",
              "  const cancel = document.createElement('button');\n",
              "  inputElement.parentElement.appendChild(cancel);\n",
              "  cancel.textContent = 'Cancel upload';\n",
              "  const cancelPromise = new Promise((resolve) => {\n",
              "    cancel.onclick = () => {\n",
              "      resolve(null);\n",
              "    };\n",
              "  });\n",
              "\n",
              "  // Wait for the user to pick the files.\n",
              "  const files = yield {\n",
              "    promise: Promise.race([pickedPromise, cancelPromise]),\n",
              "    response: {\n",
              "      action: 'starting',\n",
              "    }\n",
              "  };\n",
              "\n",
              "  cancel.remove();\n",
              "\n",
              "  // Disable the input element since further picks are not allowed.\n",
              "  inputElement.disabled = true;\n",
              "\n",
              "  if (!files) {\n",
              "    return {\n",
              "      response: {\n",
              "        action: 'complete',\n",
              "      }\n",
              "    };\n",
              "  }\n",
              "\n",
              "  for (const file of files) {\n",
              "    const li = document.createElement('li');\n",
              "    li.append(span(file.name, {fontWeight: 'bold'}));\n",
              "    li.append(span(\n",
              "        `(${file.type || 'n/a'}) - ${file.size} bytes, ` +\n",
              "        `last modified: ${\n",
              "            file.lastModifiedDate ? file.lastModifiedDate.toLocaleDateString() :\n",
              "                                    'n/a'} - `));\n",
              "    const percent = span('0% done');\n",
              "    li.appendChild(percent);\n",
              "\n",
              "    outputElement.appendChild(li);\n",
              "\n",
              "    const fileDataPromise = new Promise((resolve) => {\n",
              "      const reader = new FileReader();\n",
              "      reader.onload = (e) => {\n",
              "        resolve(e.target.result);\n",
              "      };\n",
              "      reader.readAsArrayBuffer(file);\n",
              "    });\n",
              "    // Wait for the data to be ready.\n",
              "    let fileData = yield {\n",
              "      promise: fileDataPromise,\n",
              "      response: {\n",
              "        action: 'continue',\n",
              "      }\n",
              "    };\n",
              "\n",
              "    // Use a chunked sending to avoid message size limits. See b/62115660.\n",
              "    let position = 0;\n",
              "    do {\n",
              "      const length = Math.min(fileData.byteLength - position, MAX_PAYLOAD_SIZE);\n",
              "      const chunk = new Uint8Array(fileData, position, length);\n",
              "      position += length;\n",
              "\n",
              "      const base64 = btoa(String.fromCharCode.apply(null, chunk));\n",
              "      yield {\n",
              "        response: {\n",
              "          action: 'append',\n",
              "          file: file.name,\n",
              "          data: base64,\n",
              "        },\n",
              "      };\n",
              "\n",
              "      let percentDone = fileData.byteLength === 0 ?\n",
              "          100 :\n",
              "          Math.round((position / fileData.byteLength) * 100);\n",
              "      percent.textContent = `${percentDone}% done`;\n",
              "\n",
              "    } while (position < fileData.byteLength);\n",
              "  }\n",
              "\n",
              "  // All done.\n",
              "  yield {\n",
              "    response: {\n",
              "      action: 'complete',\n",
              "    }\n",
              "  };\n",
              "}\n",
              "\n",
              "scope.google = scope.google || {};\n",
              "scope.google.colab = scope.google.colab || {};\n",
              "scope.google.colab._files = {\n",
              "  _uploadFiles,\n",
              "  _uploadFilesContinue,\n",
              "};\n",
              "})(self);\n",
              "</script> "
            ],
            "text/plain": [
              "<IPython.core.display.HTML object>"
            ]
          },
          "metadata": {},
          "output_type": "display_data"
        }
      ]
    },
    {
      "cell_type": "code",
      "source": [
        "# Mover o arquivo kaggle.json para o diretório correto e definir as permissões\n",
        "!mkdir -p ~/.kaggle\n",
        "!mv kaggle.json ~/.kaggle/\n",
        "!chmod 600 ~/.kaggle/kaggle.json\n"
      ],
      "metadata": {
        "id": "lpXJ4aYCEzLl"
      },
      "execution_count": null,
      "outputs": []
    },
    {
      "cell_type": "code",
      "source": [
        "# Download do dataset específico do Kaggle\n",
        "!kaggle datasets download -d mlippo/car-accidents-in-brazil-2017-2023\n"
      ],
      "metadata": {
        "id": "o6YrQBimJjAq"
      },
      "execution_count": null,
      "outputs": []
    },
    {
      "cell_type": "code",
      "source": [
        "# Descompactar o arquivo zipado\n",
        "!unzip car-accidents-in-brazil-2017-2023.zip\n"
      ],
      "metadata": {
        "id": "5Tc1plIBJpff"
      },
      "execution_count": null,
      "outputs": []
    },
    {
      "cell_type": "markdown",
      "source": [
        "**2. Importação das Bibliotecas**"
      ],
      "metadata": {
        "id": "AxmP2QazKVnT"
      }
    },
    {
      "cell_type": "code",
      "source": [
        "# Importação das bibliotecas necessárias para manipulação de dados, visualização e machine learning\n",
        "import pandas as pd\n",
        "import numpy as np\n",
        "import matplotlib.pyplot as plt\n",
        "import seaborn as sns\n",
        "from sklearn.model_selection import train_test_split\n",
        "from sklearn.ensemble import RandomForestClassifier\n",
        "from sklearn.metrics import classification_report, confusion_matrix\n",
        "from sklearn.preprocessing import LabelEncoder\n"
      ],
      "metadata": {
        "id": "HPQDGjViJ8ZO"
      },
      "execution_count": null,
      "outputs": []
    },
    {
      "cell_type": "markdown",
      "source": [
        "**3. Carregar e Visualizar o Dataset**"
      ],
      "metadata": {
        "id": "t09Ea8ftKgvv"
      }
    },
    {
      "cell_type": "code",
      "source": [
        "# Carregar o dataset em um DataFrame pandas\n",
        "data = pd.read_csv('car_accidents.csv')  # Substitua pelo nome do arquivo CSV\n",
        "data.head()  # Visualizar as primeiras linhas do dataset\n",
        "data.info()  # Obter informações gerais sobre as colunas e tipos de dados\n"
      ],
      "metadata": {
        "id": "UiFwjyFdKHY8"
      },
      "execution_count": null,
      "outputs": []
    },
    {
      "cell_type": "markdown",
      "source": [
        "**4. Análise Exploratória dos Dados**"
      ],
      "metadata": {
        "id": "zz1WRv_SKqFG"
      }
    },
    {
      "cell_type": "code",
      "source": [
        "# Visualizar a distribuição de acidentes por estado\n",
        "plt.figure(figsize=(12, 6))\n",
        "sns.countplot(x='state', data=data, order=data['state'].value_counts().index)\n",
        "plt.title('Distribuição de Acidentes por Estado')\n",
        "plt.xticks(rotation=90)\n",
        "plt.show()\n",
        "\n",
        "# Visualizar a distribuição de acidentes por tipo de estrada (road_id)\n",
        "plt.figure(figsize=(12, 6))\n",
        "sns.countplot(x='road_id', data=data, order=data['road_id'].value_counts().index)\n",
        "plt.title('Distribuição de Acidentes por Tipo de Estrada')\n",
        "plt.xticks(rotation=90)\n",
        "plt.show()"
      ],
      "metadata": {
        "id": "Oc7OCVMZKt-7"
      },
      "execution_count": null,
      "outputs": []
    },
    {
      "cell_type": "markdown",
      "source": [
        "**5. Pré-processamento dos Dados**"
      ],
      "metadata": {
        "id": "dE6u4Qe6Kza9"
      }
    },
    {
      "cell_type": "code",
      "source": [
        "# Preencher valores ausentes, se houver, para evitar problemas no modelo\n",
        "data.fillna(method='ffill', inplace=True)\n",
        "\n",
        "# Codificar variáveis categóricas para uso no modelo de machine learning\n",
        "label_encoder = LabelEncoder()\n",
        "data['state'] = label_encoder.fit_transform(data['state'])\n",
        "data['road_id'] = label_encoder.fit_transform(data['road_id'])\n",
        "data['type_of_accident'] = label_encoder.fit_transform(data['type_of_accident'])\n"
      ],
      "metadata": {
        "id": "lig8lYr3K32I"
      },
      "execution_count": null,
      "outputs": []
    },
    {
      "cell_type": "markdown",
      "source": [
        "**6. Transformação da Coluna Alvo (Rótulo)**"
      ],
      "metadata": {
        "id": "5UhBRYR2K7jI"
      }
    },
    {
      "cell_type": "code",
      "source": [
        "# Criar uma nova coluna binária 'has_victims' que indica se houve vítimas\n",
        "data['has_victims'] = data['victims_condition'].apply(lambda x: 1 if x != 'No Victims' else 0)\n"
      ],
      "metadata": {
        "id": "1R79ZEMhLFWG"
      },
      "execution_count": null,
      "outputs": []
    },
    {
      "cell_type": "markdown",
      "source": [
        "**7. Seleção de Features**"
      ],
      "metadata": {
        "id": "zo3ETH5eLNjY"
      }
    },
    {
      "cell_type": "code",
      "source": [
        "# Seleção das features mais relevantes para o modelo\n",
        "features = data[['state', 'road_id', 'type_of_accident', 'km', 'hour', 'week_day']]\n",
        "target = data['has_victims']\n"
      ],
      "metadata": {
        "id": "WqTqcAduLRT0"
      },
      "execution_count": null,
      "outputs": []
    },
    {
      "cell_type": "markdown",
      "source": [
        "# 8. Divisão em Conjunto de Treino e Teste"
      ],
      "metadata": {
        "id": "dEEQXqIALWsJ"
      }
    },
    {
      "cell_type": "code",
      "source": [
        "# Dividir o dataset em conjunto de treino e teste\n",
        "X_train, X_test, y_train, y_test = train_test_split(features, target, test_size=0.3, random_state=42)\n"
      ],
      "metadata": {
        "id": "YrGgqdTdLcPi"
      },
      "execution_count": null,
      "outputs": []
    },
    {
      "cell_type": "markdown",
      "source": [
        "**9. Construção e Treinamento do Modelo**"
      ],
      "metadata": {
        "id": "WuCjx-AgLde1"
      }
    },
    {
      "cell_type": "code",
      "source": [
        "# Inicializar o modelo Random Forest e treinar\n",
        "model = RandomForestClassifier(n_estimators=100, random_state=42)\n",
        "model.fit(X_train, y_train)\n"
      ],
      "metadata": {
        "id": "E-nPFAcNLpsQ"
      },
      "execution_count": null,
      "outputs": []
    },
    {
      "cell_type": "markdown",
      "source": [
        "**10. Avaliação do Modelo**"
      ],
      "metadata": {
        "id": "i2YtpS0CLdXR"
      }
    },
    {
      "cell_type": "code",
      "source": [
        "# Fazer predições no conjunto de teste\n",
        "y_pred = model.predict(X_test)\n",
        "\n",
        "# Exibir relatório de classificação e matriz de confusão\n",
        "print(classification_report(y_test, y_pred))\n",
        "conf_matrix = confusion_matrix(y_test, y_pred)\n",
        "sns.heatmap(conf_matrix, annot=True, fmt='d')\n",
        "plt.title('Matriz de Confusão')\n",
        "plt.xlabel('Predição')\n",
        "plt.ylabel('Verdadeiro')\n",
        "plt.show()\n"
      ],
      "metadata": {
        "id": "6S9terqIL2KN"
      },
      "execution_count": null,
      "outputs": []
    },
    {
      "cell_type": "markdown",
      "source": [
        "**11. Otimização dos Hiperparâmetros**"
      ],
      "metadata": {
        "id": "Y1ORNGPMLdLS"
      }
    },
    {
      "cell_type": "code",
      "source": [
        "# Importar GridSearchCV para otimizar hiperparâmetros\n",
        "from sklearn.model_selection import GridSearchCV\n",
        "\n",
        "# Definir o grid de parâmetros para o modelo\n",
        "param_grid = {\n",
        "    'n_estimators': [50, 100, 200],\n",
        "    'max_depth': [None, 10, 20, 30]\n",
        "}\n",
        "\n",
        "# Inicializar e rodar a busca em grade\n",
        "grid_search = GridSearchCV(model, param_grid, cv=5, scoring='f1')\n",
        "grid_search.fit(X_train, y_train)\n",
        "\n",
        "# Exibir os melhores parâmetros\n",
        "print(\"Melhores Parâmetros:\", grid_search.best_params_)\n"
      ],
      "metadata": {
        "id": "oyTtSToYMI7F"
      },
      "execution_count": null,
      "outputs": []
    },
    {
      "cell_type": "markdown",
      "source": [
        "**12. Análise dos Resultados e Conclusão**"
      ],
      "metadata": {
        "id": "lG2ACBVoL823"
      }
    },
    {
      "cell_type": "code",
      "source": [
        "# Avaliar novamente o modelo com os melhores hiperparâmetros\n",
        "best_model = grid_search.best_estimator_\n",
        "y_pred_best = best_model.predict(X_test)\n",
        "\n",
        "# Análise detalhada do desempenho com o modelo otimizado\n",
        "print(classification_report(y_test, y_pred_best))\n",
        "\n",
        "# Matriz de confusão do modelo otimizado\n",
        "conf_matrix_best = confusion_matrix(y_test, y_pred_best)\n",
        "sns.heatmap(conf_matrix_best, annot=True, fmt='d')\n",
        "plt.title('Matriz de Confusão do Modelo Otimizado')\n",
        "plt.xlabel('Predição')\n",
        "plt.ylabel('Verdadeiro')\n",
        "plt.show()\n"
      ],
      "metadata": {
        "id": "LaLby7hIMbGj"
      },
      "execution_count": null,
      "outputs": []
    },
    {
      "cell_type": "markdown",
      "source": [],
      "metadata": {
        "id": "zt7jbisoLdAm"
      }
    }
  ]
}